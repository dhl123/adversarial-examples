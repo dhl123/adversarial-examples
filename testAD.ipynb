{
 "cells": [
  {
   "cell_type": "code",
   "execution_count": 1,
   "metadata": {
    "scrolled": true
   },
   "outputs": [
    {
     "name": "stderr",
     "output_type": "stream",
     "text": [
      "/usr/local/lib/python3.5/dist-packages/h5py/__init__.py:36: FutureWarning: Conversion of the second argument of issubdtype from `float` to `np.floating` is deprecated. In future, it will be treated as `np.float64 == np.dtype(float).type`.\n",
      "  from ._conv import register_converters as _register_converters\n"
     ]
    }
   ],
   "source": [
    "import tensorflow as tf\n",
    "import tensorflow.contrib.slim as slim\n",
    "import tensorflow.contrib.slim.nets as nets\n",
    "from urllib.request import urlretrieve\n",
    "import tarfile\n",
    "import os\n",
    "\n",
    "tf.logging.set_verbosity(tf.logging.ERROR)\n",
    "sess = tf.InteractiveSession()"
   ]
  },
  {
   "cell_type": "code",
   "execution_count": 2,
   "metadata": {},
   "outputs": [],
   "source": [
    "image = tf.Variable(tf.zeros((224, 224, 3)))\n",
    "def vgg(image):\n",
    "    mean = [103.939, 116.779, 123.68]\n",
    "    r,g,b=tf.split(image,3,2)\n",
    "    r=tf.subtract (r,123.68)\n",
    "    g=tf.subtract (g, mean[1])\n",
    "    b=tf.subtract (b, mean[0])\n",
    "    image=tf.concat([b,g,r],2)\n",
    "    \n",
    "    preprocessed = tf.expand_dims(image, 0)\n",
    "    arg_scope = nets.vgg.vgg_arg_scope(weight_decay=0.0)\n",
    "    with slim.arg_scope(arg_scope):\n",
    "        logits, _ = nets.vgg.vgg_16(\n",
    "            preprocessed, 1000, is_training=False)\n",
    "        #logits = logits[:,1:] # ignore background class\n",
    "        probs = tf.nn.softmax(logits) # probabilities\n",
    "    return logits, probs\n",
    "def inception(image, reuse=False):\n",
    "    preprocessed = tf.multiply(tf.subtract(tf.expand_dims(image, 0), 0.5), 2.0)\n",
    "    with slim.arg_scope(nets.inception.inception_v3_arg_scope(weight_decay=0.0)):\n",
    "        logits, end_points = nets.inception.inception_v3(preprocessed, num_classes=1001,is_training=False)\n",
    "        logits = logits[:,1:]\n",
    "        probs = tf.nn.softmax(logits) # probabilities\n",
    "    return logits, probs\n",
    "def vgg19(image):\n",
    "    preprocessed = tf.multiply(tf.subtract(tf.expand_dims(image, 0), 0.5), 2.0)\n",
    "    arg_scope = nets.vgg.vgg_arg_scope(weight_decay=0.0)\n",
    "    with slim.arg_scope(arg_scope):\n",
    "        logits, _ = nets.vgg.vgg_19(\n",
    "            preprocessed, 1000, is_training=False)\n",
    "       # logits = logits[:,1:] # ignore background class\n",
    "        probs = tf.nn.softmax(logits) # probabilities\n",
    "    return logits, probs\n",
    "\n",
    "def get_vars(model_name='vgg_16/'):#'InceptionV3/'\n",
    "    restore_vars = [\n",
    "        var for var in tf.global_variables()\n",
    "        if var.name.startswith(model_name)\n",
    "    ]\n",
    "    return restore_vars\n"
   ]
  },
  {
   "cell_type": "code",
   "execution_count": 3,
   "metadata": {},
   "outputs": [
    {
     "data": {
      "text/plain": [
       "\"logits, probs = inception(image)\\nget_vars(model_name='InceptionV3/')\""
      ]
     },
     "execution_count": 3,
     "metadata": {},
     "output_type": "execute_result"
    }
   ],
   "source": [
    "'''logits, probs = inception(image)\n",
    "get_vars(model_name='InceptionV3/')'''"
   ]
  },
  {
   "cell_type": "code",
   "execution_count": 4,
   "metadata": {},
   "outputs": [],
   "source": [
    "logits, probs = vgg(image)"
   ]
  },
  {
   "cell_type": "code",
   "execution_count": 5,
   "metadata": {},
   "outputs": [
    {
     "data": {
      "text/plain": [
       "[<tf.Variable 'Variable:0' shape=(224, 224, 3) dtype=float32_ref>,\n",
       " <tf.Variable 'vgg_16/conv1/conv1_1/weights:0' shape=(3, 3, 3, 64) dtype=float32_ref>,\n",
       " <tf.Variable 'vgg_16/conv1/conv1_1/biases:0' shape=(64,) dtype=float32_ref>,\n",
       " <tf.Variable 'vgg_16/conv1/conv1_2/weights:0' shape=(3, 3, 64, 64) dtype=float32_ref>,\n",
       " <tf.Variable 'vgg_16/conv1/conv1_2/biases:0' shape=(64,) dtype=float32_ref>,\n",
       " <tf.Variable 'vgg_16/conv2/conv2_1/weights:0' shape=(3, 3, 64, 128) dtype=float32_ref>,\n",
       " <tf.Variable 'vgg_16/conv2/conv2_1/biases:0' shape=(128,) dtype=float32_ref>,\n",
       " <tf.Variable 'vgg_16/conv2/conv2_2/weights:0' shape=(3, 3, 128, 128) dtype=float32_ref>,\n",
       " <tf.Variable 'vgg_16/conv2/conv2_2/biases:0' shape=(128,) dtype=float32_ref>,\n",
       " <tf.Variable 'vgg_16/conv3/conv3_1/weights:0' shape=(3, 3, 128, 256) dtype=float32_ref>,\n",
       " <tf.Variable 'vgg_16/conv3/conv3_1/biases:0' shape=(256,) dtype=float32_ref>,\n",
       " <tf.Variable 'vgg_16/conv3/conv3_2/weights:0' shape=(3, 3, 256, 256) dtype=float32_ref>,\n",
       " <tf.Variable 'vgg_16/conv3/conv3_2/biases:0' shape=(256,) dtype=float32_ref>,\n",
       " <tf.Variable 'vgg_16/conv3/conv3_3/weights:0' shape=(3, 3, 256, 256) dtype=float32_ref>,\n",
       " <tf.Variable 'vgg_16/conv3/conv3_3/biases:0' shape=(256,) dtype=float32_ref>,\n",
       " <tf.Variable 'vgg_16/conv4/conv4_1/weights:0' shape=(3, 3, 256, 512) dtype=float32_ref>,\n",
       " <tf.Variable 'vgg_16/conv4/conv4_1/biases:0' shape=(512,) dtype=float32_ref>,\n",
       " <tf.Variable 'vgg_16/conv4/conv4_2/weights:0' shape=(3, 3, 512, 512) dtype=float32_ref>,\n",
       " <tf.Variable 'vgg_16/conv4/conv4_2/biases:0' shape=(512,) dtype=float32_ref>,\n",
       " <tf.Variable 'vgg_16/conv4/conv4_3/weights:0' shape=(3, 3, 512, 512) dtype=float32_ref>,\n",
       " <tf.Variable 'vgg_16/conv4/conv4_3/biases:0' shape=(512,) dtype=float32_ref>,\n",
       " <tf.Variable 'vgg_16/conv5/conv5_1/weights:0' shape=(3, 3, 512, 512) dtype=float32_ref>,\n",
       " <tf.Variable 'vgg_16/conv5/conv5_1/biases:0' shape=(512,) dtype=float32_ref>,\n",
       " <tf.Variable 'vgg_16/conv5/conv5_2/weights:0' shape=(3, 3, 512, 512) dtype=float32_ref>,\n",
       " <tf.Variable 'vgg_16/conv5/conv5_2/biases:0' shape=(512,) dtype=float32_ref>,\n",
       " <tf.Variable 'vgg_16/conv5/conv5_3/weights:0' shape=(3, 3, 512, 512) dtype=float32_ref>,\n",
       " <tf.Variable 'vgg_16/conv5/conv5_3/biases:0' shape=(512,) dtype=float32_ref>,\n",
       " <tf.Variable 'vgg_16/fc6/weights:0' shape=(7, 7, 512, 4096) dtype=float32_ref>,\n",
       " <tf.Variable 'vgg_16/fc6/biases:0' shape=(4096,) dtype=float32_ref>,\n",
       " <tf.Variable 'vgg_16/fc7/weights:0' shape=(1, 1, 4096, 4096) dtype=float32_ref>,\n",
       " <tf.Variable 'vgg_16/fc7/biases:0' shape=(4096,) dtype=float32_ref>,\n",
       " <tf.Variable 'vgg_16/fc8/weights:0' shape=(1, 1, 4096, 1000) dtype=float32_ref>,\n",
       " <tf.Variable 'vgg_16/fc8/biases:0' shape=(1000,) dtype=float32_ref>]"
      ]
     },
     "execution_count": 5,
     "metadata": {},
     "output_type": "execute_result"
    }
   ],
   "source": [
    "tf.global_variables()"
   ]
  },
  {
   "cell_type": "code",
   "execution_count": 6,
   "metadata": {},
   "outputs": [
    {
     "data": {
      "text/plain": [
       "\"logits, probs = inception(image)\\nsaver = tf.train.Saver(get_vars(model_name='InceptionV3/'))\\nsaver.restore(sess,'models/inception_v3.ckpt')\""
      ]
     },
     "execution_count": 6,
     "metadata": {},
     "output_type": "execute_result"
    }
   ],
   "source": [
    "'''logits, probs = inception(image)\n",
    "saver = tf.train.Saver(get_vars(model_name='InceptionV3/'))\n",
    "saver.restore(sess,'models/inception_v3.ckpt')'''"
   ]
  },
  {
   "cell_type": "code",
   "execution_count": 7,
   "metadata": {},
   "outputs": [
    {
     "name": "stdout",
     "output_type": "stream",
     "text": [
      "dict_keys(['conv5_1', 'conv1_2', 'conv4_3', 'conv3_2', 'fc7', 'conv5_3', 'conv2_2', 'conv4_2', 'conv3_3', 'fc8', 'conv1_1', 'conv3_1', 'conv2_1', 'conv5_2', 'fc6', 'conv4_1'])\n",
      "(25088, 4096)\n"
     ]
    }
   ],
   "source": [
    "import numpy as np\n",
    "weights = np.load('models/vgg16.npy',encoding=\"latin1\").item()\n",
    "\n",
    "print(weights.keys())\n",
    "    \n",
    "#print loss_l2\n",
    "load_weights = {}\n",
    "load_weights['vgg_16/conv1/conv1_1'] = weights['conv1_1']\n",
    "load_weights['vgg_16/conv1/conv1_2'] = weights['conv1_2']\n",
    "load_weights['vgg_16/conv2/conv2_1'] = weights['conv2_1']\n",
    "load_weights['vgg_16/conv2/conv2_2'] = weights['conv2_2']\n",
    "load_weights['vgg_16/conv3/conv3_1'] = weights['conv3_1']\n",
    "load_weights['vgg_16/conv3/conv3_2'] = weights['conv3_2']\n",
    "load_weights['vgg_16/conv3/conv3_3'] = weights['conv3_3']\n",
    "load_weights['vgg_16/conv4/conv4_1'] = weights['conv4_1']\n",
    "load_weights['vgg_16/conv4/conv4_2'] = weights['conv4_2']\n",
    "load_weights['vgg_16/conv4/conv4_3'] = weights['conv4_3']\n",
    "load_weights['vgg_16/conv5/conv5_1'] = weights['conv5_1']\n",
    "load_weights['vgg_16/conv5/conv5_2'] = weights['conv5_2']\n",
    "load_weights['vgg_16/conv5/conv5_3'] = weights['conv5_3']\n",
    "print(np.array(weights['fc6'][0]).shape)   \n",
    "for key in load_weights:\n",
    "    with tf.variable_scope(key, reuse=True):\n",
    "        for subkey, data in zip(('weights', 'biases'), load_weights[key]):\n",
    "            sess.run(tf.get_variable(subkey).assign(data))\n",
    "\n",
    "with tf.variable_scope('vgg_16/fc6', reuse=True):\n",
    "    sess.run(tf.get_variable(\"weights\").assign(np.array(weights[\"fc6\"][0].reshape(7,7,512,4096))))\n",
    "    sess.run(tf.get_variable(\"biases\").assign(weights['fc6'][1]))\n",
    "    \n",
    "with tf.variable_scope('vgg_16/fc7', reuse=True):\n",
    "    sess.run(tf.get_variable(\"weights\").assign(np.array(weights[\"fc7\"][0].reshape(1,1,4096,4096))))\n",
    "    sess.run(tf.get_variable(\"biases\").assign(weights['fc7'][1]))\n",
    "\n",
    "    \n",
    "with tf.variable_scope('vgg_16/fc8', reuse=True):\n",
    "    sess.run(tf.get_variable(\"weights\").assign(np.array(weights[\"fc8\"][0]).reshape(1,1,4096,1000)))\n",
    "    sess.run(tf.get_variable(\"biases\").assign(weights['fc8'][1]))"
   ]
  },
  {
   "cell_type": "code",
   "execution_count": 8,
   "metadata": {},
   "outputs": [
    {
     "data": {
      "text/plain": [
       "\"logits, probs = vgg19(image)\\nsaver = tf.train.Saver(get_vars(model_name='vgg_19/'))\\nsaver.restore(sess,'models/vgg_19.ckpt')\""
      ]
     },
     "execution_count": 8,
     "metadata": {},
     "output_type": "execute_result"
    }
   ],
   "source": [
    "'''logits, probs = vgg19(image)\n",
    "saver = tf.train.Saver(get_vars(model_name='vgg_19/'))\n",
    "saver.restore(sess,'models/vgg_19.ckpt')'''"
   ]
  },
  {
   "cell_type": "code",
   "execution_count": 9,
   "metadata": {},
   "outputs": [],
   "source": [
    "import json\n",
    "import matplotlib.pyplot as plt\n",
    "import urllib\n",
    "\n",
    "def classify(img, target_class=None):\n",
    "    p = sess.run(probs, feed_dict={image: img})[0]\n",
    "    topk = list(p.argsort()[-10:][::-1])\n",
    "    print(topk)\n",
    "    topprobs = p[topk]\n",
    "    barlist = plt.bar(range(10), topprobs)\n",
    "    if target_class in topk:\n",
    "        barlist[topk.index(target_class)].set_color('r')\n",
    "    plt.ylim([0, 1.1])\n",
    "    plt.xticks(range(10),\n",
    "               topk,\n",
    "               rotation='vertical')\n",
    "\n",
    "    plt.show()\n",
    "import math   \n",
    "def classifys(imgs,target_class):\n",
    "\n",
    "    plt.figure(1,figsize=(30,30))\n",
    "    num=len(imgs)+1\n",
    "    n_rows=math.ceil(num/4)+1\n",
    "    \n",
    "    for i in range(len(imgs)):\n",
    "        p = sess.run(probs, feed_dict={image: imgs[i]})[0]\n",
    "        topk = list(p.argsort()[-10:][::-1])\n",
    "        topprobs = p[topk]\n",
    "        plt.subplot(n_rows,2,i+1)\n",
    "        barlist = plt.bar(range(10), topprobs)\n",
    "        if target_class in topk:\n",
    "            barlist[topk.index(target_class)].set_color('r')\n",
    "        plt.ylim([0, 1.1])\n",
    "        plt.xticks(range(10),\n",
    "                    topk,\n",
    "                    rotation='vertical')\n",
    "\n",
    "    plt.show()\n",
    "    \n",
    "    "
   ]
  },
  {
   "cell_type": "code",
   "execution_count": 10,
   "metadata": {},
   "outputs": [],
   "source": [
    "import PIL\n",
    "import numpy as np\n",
    "import os\n",
    "from skimage.io import imread\n",
    "from skimage.transform import resize\n",
    "def getImage(img_path,image_size=299):\n",
    "    img = PIL.Image.open(img_path)\n",
    "    big_dim = max(img.width, img.height)\n",
    "    wide = img.width > img.height\n",
    "    new_w = image_size if not wide else int(img.width * image_size / img.height)\n",
    "    new_h = image_size if wide else int(img.height * image_size / img.width)\n",
    "    img = img.resize((new_w, new_h)).crop((0, 0, image_size, image_size))\n",
    "    img = (np.asarray(img) / 255.0).astype(np.float32)\n",
    "    #classify(img, correct_class=img_class)\n",
    "    return img\n",
    "\n",
    "def getImages(imgs_path,image_size=224):\n",
    "    images=[]\n",
    "    path=os.listdir(imgs_path)\n",
    "    for i in path:\n",
    "        img_path=os.path.join(imgs_path,i)\n",
    "        images.append(getImage(img_path,image_size=image_size))\n",
    "    return images\n",
    "    "
   ]
  },
  {
   "cell_type": "code",
   "execution_count": 11,
   "metadata": {},
   "outputs": [],
   "source": [
    "def adsample(lr=0.1,steps=50,target=924,img=None,image_size=224):\n",
    "    x = tf.placeholder(tf.float32, (image_size, image_size, 3))\n",
    "\n",
    "    x_hat = image # our trainable adversarial input\n",
    "    #rint(x)\n",
    "   #print(img)\n",
    "    assign_op = tf.assign(x_hat, x)\n",
    "    learning_rate = tf.placeholder(tf.float32, ())\n",
    "    y_hat = tf.placeholder(tf.int32, ())\n",
    "\n",
    "    labels = tf.one_hot(y_hat, 1000)\n",
    "    loss = tf.nn.softmax_cross_entropy_with_logits(logits=logits, labels=[labels])\n",
    "    optim_step = tf.train.GradientDescentOptimizer(\n",
    "        learning_rate).minimize(loss, var_list=[x_hat])\n",
    "    epsilon = tf.placeholder(tf.float32, ())\n",
    "\n",
    "    below = x - epsilon\n",
    "    above = x + epsilon\n",
    "    projected = tf.clip_by_value(tf.clip_by_value(x_hat, below, above), 0, 1)\n",
    "    with tf.control_dependencies([projected]):\n",
    "        project_step = tf.assign(x_hat, projected)\n",
    "\n",
    "    demo_epsilon = 2.0/255.0 # a really small perturbation\n",
    "    demo_lr = lr\n",
    "    demo_steps = steps\n",
    "    demo_target=target # \"guacamole\"\n",
    "\n",
    "    # initialization step\n",
    "    sess.run(assign_op, feed_dict={x: img})\n",
    "\n",
    "    # projected gradient descent\n",
    "    for i in range(demo_steps):\n",
    "        # gradient descent step\n",
    "        _, loss_value = sess.run(\n",
    "            [optim_step, loss],\n",
    "            feed_dict={learning_rate: demo_lr, y_hat: demo_target})\n",
    "        # project step\n",
    "        sess.run(project_step, feed_dict={x: img, epsilon: demo_epsilon})\n",
    "        if (i+1) % 10 == 0:\n",
    "            print('step %d, loss=%g' % (i+1, loss_value))\n",
    "\n",
    "    return x_hat.eval() # retrieve the adversarial example\n",
    "\n",
    "\n",
    "def adSamples(imgs,lr=0.1,steps=50,target=924,image_size=224):\n",
    "    adimgs=[]\n",
    "    for i in imgs:\n",
    "        adimgs.append(adsample(lr,steps,target,img=i,image_size=image_size))\n",
    "    return adimgs"
   ]
  },
  {
   "cell_type": "code",
   "execution_count": 18,
   "metadata": {},
   "outputs": [],
   "source": [
    "imgs=getImages(\"cats\",image_size=224)[:15]"
   ]
  },
  {
   "cell_type": "code",
   "execution_count": 19,
   "metadata": {},
   "outputs": [
    {
     "name": "stdout",
     "output_type": "stream",
     "text": [
      "[644, 111, 626, 530, 818, 470, 607, 619, 845, 826]\n"
     ]
    },
    {
     "data": {
      "image/png": "[encoded data removed]",
      "text/plain": [
       "<Figure size 432x288 with 1 Axes>"
      ]
     },
     "metadata": {},
     "output_type": "display_data"
    }
   ],
   "source": [
    "classify(imgs[1])"
   ]
  },
  {
   "cell_type": "code",
   "execution_count": 14,
   "metadata": {
    "scrolled": true
   },
   "outputs": [
    {
     "ename": "TypeError",
     "evalue": "adSamples() got an unexpected keyword argument 'imgs_path'",
     "output_type": "error",
     "traceback": [
      "\u001b[0;31m---------------------------------------------------------------------------\u001b[0m",
      "\u001b[0;31mTypeError\u001b[0m                                 Traceback (most recent call last)",
      "\u001b[0;32m<ipython-input-14-9aa5ccd5a4de>\u001b[0m in \u001b[0;36m<module>\u001b[0;34m()\u001b[0m\n\u001b[1;32m      1\u001b[0m \u001b[0;34m\u001b[0m\u001b[0m\n\u001b[0;32m----> 2\u001b[0;31m \u001b[0madvs\u001b[0m\u001b[0;34m=\u001b[0m\u001b[0madSamples\u001b[0m\u001b[0;34m(\u001b[0m\u001b[0mlr\u001b[0m\u001b[0;34m=\u001b[0m\u001b[0;36m0.1\u001b[0m\u001b[0;34m,\u001b[0m\u001b[0mimgs_path\u001b[0m\u001b[0;34m=\u001b[0m\u001b[0;34m\"dogs\"\u001b[0m\u001b[0;34m,\u001b[0m\u001b[0msteps\u001b[0m\u001b[0;34m=\u001b[0m\u001b[0;36m1\u001b[0m\u001b[0;34m,\u001b[0m\u001b[0mimage_size\u001b[0m\u001b[0;34m=\u001b[0m\u001b[0;36m224\u001b[0m\u001b[0;34m)\u001b[0m\u001b[0;34m\u001b[0m\u001b[0m\n\u001b[0m",
      "\u001b[0;31mTypeError\u001b[0m: adSamples() got an unexpected keyword argument 'imgs_path'"
     ]
    }
   ],
   "source": [
    "\n",
    "advs=adSamples(lr=0.1,imgs_path=\"dogs\",steps=1,image_size=224)"
   ]
  },
  {
   "cell_type": "code",
   "execution_count": 14,
   "metadata": {},
   "outputs": [
    {
     "ename": "ValueError",
     "evalue": "num must be 1 <= num <= 10, not 11",
     "output_type": "error",
     "traceback": [
      "\u001b[0;31m---------------------------------------------------------------------------\u001b[0m",
      "\u001b[0;31mValueError\u001b[0m                                Traceback (most recent call last)",
      "\u001b[0;32m<ipython-input-14-9387480ac49c>\u001b[0m in \u001b[0;36m<module>\u001b[0;34m()\u001b[0m\n\u001b[0;32m----> 1\u001b[0;31m \u001b[0mclassifys\u001b[0m\u001b[0;34m(\u001b[0m\u001b[0madvs\u001b[0m\u001b[0;34m,\u001b[0m \u001b[0mtarget_class\u001b[0m\u001b[0;34m=\u001b[0m\u001b[0;36m924\u001b[0m\u001b[0;34m)\u001b[0m\u001b[0;34m\u001b[0m\u001b[0m\n\u001b[0m",
      "\u001b[0;32m<ipython-input-9-ab94302699a2>\u001b[0m in \u001b[0;36mclassifys\u001b[0;34m(imgs, target_class)\u001b[0m\n\u001b[1;32m     28\u001b[0m         \u001b[0mtopk\u001b[0m \u001b[0;34m=\u001b[0m \u001b[0mlist\u001b[0m\u001b[0;34m(\u001b[0m\u001b[0mp\u001b[0m\u001b[0;34m.\u001b[0m\u001b[0margsort\u001b[0m\u001b[0;34m(\u001b[0m\u001b[0;34m)\u001b[0m\u001b[0;34m[\u001b[0m\u001b[0;34m-\u001b[0m\u001b[0;36m10\u001b[0m\u001b[0;34m:\u001b[0m\u001b[0;34m]\u001b[0m\u001b[0;34m[\u001b[0m\u001b[0;34m:\u001b[0m\u001b[0;34m:\u001b[0m\u001b[0;34m-\u001b[0m\u001b[0;36m1\u001b[0m\u001b[0;34m]\u001b[0m\u001b[0;34m)\u001b[0m\u001b[0;34m\u001b[0m\u001b[0m\n\u001b[1;32m     29\u001b[0m         \u001b[0mtopprobs\u001b[0m \u001b[0;34m=\u001b[0m \u001b[0mp\u001b[0m\u001b[0;34m[\u001b[0m\u001b[0mtopk\u001b[0m\u001b[0;34m]\u001b[0m\u001b[0;34m\u001b[0m\u001b[0m\n\u001b[0;32m---> 30\u001b[0;31m         \u001b[0mplt\u001b[0m\u001b[0;34m.\u001b[0m\u001b[0msubplot\u001b[0m\u001b[0;34m(\u001b[0m\u001b[0mn_rows\u001b[0m\u001b[0;34m,\u001b[0m\u001b[0;36m2\u001b[0m\u001b[0;34m,\u001b[0m\u001b[0mi\u001b[0m\u001b[0;34m+\u001b[0m\u001b[0;36m1\u001b[0m\u001b[0;34m)\u001b[0m\u001b[0;34m\u001b[0m\u001b[0m\n\u001b[0m\u001b[1;32m     31\u001b[0m         \u001b[0mbarlist\u001b[0m \u001b[0;34m=\u001b[0m \u001b[0mplt\u001b[0m\u001b[0;34m.\u001b[0m\u001b[0mbar\u001b[0m\u001b[0;34m(\u001b[0m\u001b[0mrange\u001b[0m\u001b[0;34m(\u001b[0m\u001b[0;36m10\u001b[0m\u001b[0;34m)\u001b[0m\u001b[0;34m,\u001b[0m \u001b[0mtopprobs\u001b[0m\u001b[0;34m)\u001b[0m\u001b[0;34m\u001b[0m\u001b[0m\n\u001b[1;32m     32\u001b[0m         \u001b[0;32mif\u001b[0m \u001b[0mtarget_class\u001b[0m \u001b[0;32min\u001b[0m \u001b[0mtopk\u001b[0m\u001b[0;34m:\u001b[0m\u001b[0;34m\u001b[0m\u001b[0m\n",
      "\u001b[0;32m/usr/local/lib/python3.5/dist-packages/matplotlib/pyplot.py\u001b[0m in \u001b[0;36msubplot\u001b[0;34m(*args, **kwargs)\u001b[0m\n\u001b[1;32m   1070\u001b[0m \u001b[0;34m\u001b[0m\u001b[0m\n\u001b[1;32m   1071\u001b[0m     \u001b[0mfig\u001b[0m \u001b[0;34m=\u001b[0m \u001b[0mgcf\u001b[0m\u001b[0;34m(\u001b[0m\u001b[0;34m)\u001b[0m\u001b[0;34m\u001b[0m\u001b[0m\n\u001b[0;32m-> 1072\u001b[0;31m     \u001b[0ma\u001b[0m \u001b[0;34m=\u001b[0m \u001b[0mfig\u001b[0m\u001b[0;34m.\u001b[0m\u001b[0madd_subplot\u001b[0m\u001b[0;34m(\u001b[0m\u001b[0;34m*\u001b[0m\u001b[0margs\u001b[0m\u001b[0;34m,\u001b[0m \u001b[0;34m**\u001b[0m\u001b[0mkwargs\u001b[0m\u001b[0;34m)\u001b[0m\u001b[0;34m\u001b[0m\u001b[0m\n\u001b[0m\u001b[1;32m   1073\u001b[0m     \u001b[0mbbox\u001b[0m \u001b[0;34m=\u001b[0m \u001b[0ma\u001b[0m\u001b[0;34m.\u001b[0m\u001b[0mbbox\u001b[0m\u001b[0;34m\u001b[0m\u001b[0m\n\u001b[1;32m   1074\u001b[0m     \u001b[0mbyebye\u001b[0m \u001b[0;34m=\u001b[0m \u001b[0;34m[\u001b[0m\u001b[0;34m]\u001b[0m\u001b[0;34m\u001b[0m\u001b[0m\n",
      "\u001b[0;32m/usr/local/lib/python3.5/dist-packages/matplotlib/figure.py\u001b[0m in \u001b[0;36madd_subplot\u001b[0;34m(self, *args, **kwargs)\u001b[0m\n\u001b[1;32m   1237\u001b[0m                     \u001b[0mself\u001b[0m\u001b[0;34m.\u001b[0m\u001b[0m_axstack\u001b[0m\u001b[0;34m.\u001b[0m\u001b[0mremove\u001b[0m\u001b[0;34m(\u001b[0m\u001b[0max\u001b[0m\u001b[0;34m)\u001b[0m\u001b[0;34m\u001b[0m\u001b[0m\n\u001b[1;32m   1238\u001b[0m \u001b[0;34m\u001b[0m\u001b[0m\n\u001b[0;32m-> 1239\u001b[0;31m             \u001b[0ma\u001b[0m \u001b[0;34m=\u001b[0m \u001b[0msubplot_class_factory\u001b[0m\u001b[0;34m(\u001b[0m\u001b[0mprojection_class\u001b[0m\u001b[0;34m)\u001b[0m\u001b[0;34m(\u001b[0m\u001b[0mself\u001b[0m\u001b[0;34m,\u001b[0m \u001b[0;34m*\u001b[0m\u001b[0margs\u001b[0m\u001b[0;34m,\u001b[0m \u001b[0;34m**\u001b[0m\u001b[0mkwargs\u001b[0m\u001b[0;34m)\u001b[0m\u001b[0;34m\u001b[0m\u001b[0m\n\u001b[0m\u001b[1;32m   1240\u001b[0m         \u001b[0mself\u001b[0m\u001b[0;34m.\u001b[0m\u001b[0m_axstack\u001b[0m\u001b[0;34m.\u001b[0m\u001b[0madd\u001b[0m\u001b[0;34m(\u001b[0m\u001b[0mkey\u001b[0m\u001b[0;34m,\u001b[0m \u001b[0ma\u001b[0m\u001b[0;34m)\u001b[0m\u001b[0;34m\u001b[0m\u001b[0m\n\u001b[1;32m   1241\u001b[0m         \u001b[0mself\u001b[0m\u001b[0;34m.\u001b[0m\u001b[0msca\u001b[0m\u001b[0;34m(\u001b[0m\u001b[0ma\u001b[0m\u001b[0;34m)\u001b[0m\u001b[0;34m\u001b[0m\u001b[0m\n",
      "\u001b[0;32m/usr/local/lib/python3.5/dist-packages/matplotlib/axes/_subplots.py\u001b[0m in \u001b[0;36m__init__\u001b[0;34m(self, fig, *args, **kwargs)\u001b[0m\n\u001b[1;32m     65\u001b[0m                     raise ValueError(\n\u001b[1;32m     66\u001b[0m                         (\"num must be 1 <= num <= {maxn}, not {num}\"\n\u001b[0;32m---> 67\u001b[0;31m                         ).format(maxn=rows*cols, num=num))\n\u001b[0m\u001b[1;32m     68\u001b[0m                 self._subplotspec = GridSpec(\n\u001b[1;32m     69\u001b[0m                         rows, cols, figure=self.figure)[int(num) - 1]\n",
      "\u001b[0;31mValueError\u001b[0m: num must be 1 <= num <= 10, not 11"
     ]
    },
    {
     "data": {
      "image/png": "[encoded data removed]",
      "text/plain": [
       "<Figure size 2160x2160 with 10 Axes>"
      ]
     },
     "metadata": {},
     "output_type": "display_data"
    }
   ],
   "source": [
    "classifys(advs, target_class=924)"
   ]
  },
  {
   "cell_type": "code",
   "execution_count": null,
   "metadata": {},
   "outputs": [],
   "source": []
  },
  {
   "cell_type": "code",
   "execution_count": null,
   "metadata": {},
   "outputs": [],
   "source": []
  },
  {
   "cell_type": "code",
   "execution_count": null,
   "metadata": {},
   "outputs": [],
   "source": []
  }
 ],
 "metadata": {
  "kernelspec": {
   "display_name": "Python 3",
   "language": "python",
   "name": "python3"
  },
  "language_info": {
   "codemirror_mode": {
    "name": "ipython",
    "version": 3
   },
   "file_extension": ".py",
   "mimetype": "text/x-python",
   "name": "python",
   "nbconvert_exporter": "python",
   "pygments_lexer": "ipython3",
   "version": "3.5.2"
  }
 },
 "nbformat": 4,
 "nbformat_minor": 2
}
